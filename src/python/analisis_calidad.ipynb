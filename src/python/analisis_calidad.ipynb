{
 "cells": [
  {
   "cell_type": "code",
   "execution_count": 5,
   "id": "925050d5",
   "metadata": {},
   "outputs": [],
   "source": [
    "import psycopg2\n",
    "import pandas as pd"
   ]
  },
  {
   "cell_type": "code",
   "execution_count": 6,
   "id": "1267b05e",
   "metadata": {},
   "outputs": [
    {
     "name": "stdout",
     "output_type": "stream",
     "text": [
      "Conexión exitosa a la base de datos EcommerceDB\n"
     ]
    }
   ],
   "source": [
    "# Parámetros de conexión\n",
    "host = \"localhost\"\n",
    "port = \"5432\"\n",
    "dbname = \"EcommerceDB\"\n",
    "user = \"postgres\"\n",
    "password = \"postgres123\"\n",
    "\n",
    "# Crear conexión\n",
    "try:\n",
    "    conn = psycopg2.connect(\n",
    "        host=host,\n",
    "        port=port,\n",
    "        dbname=dbname,\n",
    "        user=user,\n",
    "        password=password\n",
    "    )\n",
    "    print(f\"Conexión exitosa a la base de datos {dbname}\")\n",
    "except Exception as e:\n",
    "    print(f\"Error al conectar a la base de datos {dbname}:\", e)\n"
   ]
  },
  {
   "cell_type": "code",
   "execution_count": null,
   "id": "f35c39c4",
   "metadata": {},
   "outputs": [
    {
     "name": "stdout",
     "output_type": "stream",
     "text": [
      "   productoid  min_diferencia_pct  max_diferencia_pct\n",
      "0           1          -97.114203           42.781222\n",
      "1           2          -98.221527          -37.449312\n",
      "2           3          -85.683514          283.898761\n",
      "3           4          -28.352235         3209.939960\n",
      "4           5          -67.691923         1150.062516\n"
     ]
    },
    {
     "name": "stderr",
     "output_type": "stream",
     "text": [
      "C:\\Users\\gabriel.b.alvarez\\AppData\\Local\\Temp\\ipykernel_9652\\2238761405.py:13: UserWarning: pandas only supports SQLAlchemy connectable (engine/connection) or database string URI or sqlite3 DBAPI2 connection. Other DBAPI2 objects are not tested. Please consider using SQLAlchemy.\n",
      "  df = pd.read_sql_query(query, conn)\n"
     ]
    }
   ],
   "source": [
    "# VARIACION DE PRECIOS PARA PRODUCTOS EN ORDENES\n",
    "# Un mismo producto cuenta con varios precios registrados, en este analisis se tiene en cuenta el minimo y \n",
    "# maximo valor registrado para cada producto y se calcula el porcentaje de variacion\n",
    "\n",
    "query = \"\"\"\n",
    "SELECT \n",
    "    d.productoid,\n",
    "    p.precio AS precio_oficial,\n",
    "    d.preciounitario\n",
    "FROM \n",
    "    public.detalleordenes d\n",
    "JOIN \n",
    "    public.productos p ON d.productoid = p.productoid\n",
    "\"\"\"\n",
    "df = pd.read_sql_query(query, conn)\n",
    "\n",
    "df[\"diferencia_pct\"] = ((df[\"preciounitario\"] - df[\"precio_oficial\"]) / df[\"precio_oficial\"]) * 100\n",
    "\n",
    "resumen = df.groupby(\"productoid\")[\"diferencia_pct\"].agg([\"min\", \"max\"]).reset_index()\n",
    "resumen.rename(columns={\"min\": \"min_diferencia_pct\", \"max\": \"max_diferencia_pct\"}, inplace=True)\n",
    "\n",
    "print(resumen.head())"
   ]
  },
  {
   "cell_type": "code",
   "execution_count": null,
   "id": "d4f05da6",
   "metadata": {},
   "outputs": [
    {
     "name": "stdout",
     "output_type": "stream",
     "text": [
      "5.4%\n"
     ]
    }
   ],
   "source": [
    "# EMAILS CON FORMATO INVALIDO\n",
    "# En este analisis se encontró que hay emails donde se tienen espacios en blanco, lo cual los vuelve invalidos, \n",
    "# se calcula el porcentaje de estos con respecto al total\n",
    "\n",
    "query_mal_formato = \"\"\" SELECT count(*)\tFROM public.usuarios where email like '% %' \"\"\"\n",
    "query_totalidad = \"\"\" SELECT count(*) FROM public.usuarios \"\"\"\n",
    "\n",
    "cursor = conn.cursor()\n",
    "\n",
    "cursor.execute(query_mal_formato)\n",
    "resultado_mal_formato = cursor.fetchone()[0]\n",
    "cursor.execute(query_totalidad)\n",
    "resultado_totalidad = cursor.fetchone()[0]\n",
    "\n",
    "porc_malos_sobre_total = (resultado_mal_formato/resultado_totalidad)*100\n",
    "\n",
    "print(f'Porcentaje de emails con un formato incompleto: {porc_malos_sobre_total}%')"
   ]
  },
  {
   "cell_type": "code",
   "execution_count": null,
   "id": "4a3f8083",
   "metadata": {},
   "outputs": [
    {
     "name": "stdout",
     "output_type": "stream",
     "text": [
      "90.0%\n"
     ]
    }
   ],
   "source": [
    "# ORDENES SIN DETALLE\n",
    "# Al analizar los datos, se encontró con que hay ordenes que no tienen detalle, se procede a calcular el porcentaje\n",
    "# que representan estos con respecto al total\n",
    "\n",
    "query_cant_ord_sin_detalle = \"\"\" \n",
    "                    SELECT COUNT(*) FROM public.ordenes ord WHERE ord.ordenid NOT IN (SELECT DISTINCT ordenid from public.detalleordenes) \n",
    "                    \"\"\"\n",
    "query_cant_ord = \"\"\" SELECT COUNT(distinct ordenid) FROM public.ordenes ord \"\"\"\n",
    "\n",
    "cursor = conn.cursor()\n",
    "\n",
    "cursor.execute(query_cant_ord_sin_detalle)\n",
    "resultado_cant_ord_sin_detalle = cursor.fetchone()[0]\n",
    "\n",
    "cursor.execute(query_cant_ord)\n",
    "resultado_cant_ord = cursor.fetchone()[0]\n",
    "\n",
    "porc_ord_sin_detalle = (resultado_cant_ord_sin_detalle/resultado_cant_ord)*100\n",
    "\n",
    "print(f'Porcentaje de ordenes sin detalle con respecto al total: {porc_ord_sin_detalle}%')"
   ]
  },
  {
   "cell_type": "code",
   "execution_count": null,
   "id": "d059712a",
   "metadata": {},
   "outputs": [
    {
     "name": "stdout",
     "output_type": "stream",
     "text": [
      "     ordenid  total_orden  total_orden_detalle  diferencia_total\n",
      "975      976       456.57             19226.99          18770.42\n",
      "428      429       970.02             18546.36          17576.34\n",
      "371      372       317.60             17722.88          17405.28\n",
      "697      698       381.63             17414.44          17032.81\n",
      "711      712        42.47             17057.27          17014.80\n",
      "..       ...          ...                  ...               ...\n",
      "388      389       999.85              1904.60            904.75\n",
      "614      615       830.68              1622.83            792.15\n",
      "958      959       424.84              1088.10            663.26\n",
      "329      330       733.68              1172.63            438.95\n",
      "106      107       877.89              1107.47            229.58\n",
      "\n",
      "[1000 rows x 4 columns]\n"
     ]
    },
    {
     "name": "stderr",
     "output_type": "stream",
     "text": [
      "C:\\Users\\gabriel.b.alvarez\\AppData\\Local\\Temp\\ipykernel_21048\\3093765353.py:15: UserWarning: pandas only supports SQLAlchemy connectable (engine/connection) or database string URI or sqlite3 DBAPI2 connection. Other DBAPI2 objects are not tested. Please consider using SQLAlchemy.\n",
      "  df = pd.read_sql_query(query, conn)\n"
     ]
    }
   ],
   "source": [
    "# DIFERENCIAS DE TOTALES DE ORDENES\n",
    "# Durante el analisis de los datos, se notó que las ordenes no coinciden en ambas tablas con respecto al total\n",
    "# registrado, se procede a comprobarlo y demostrar la diferencia entre estos\n",
    "\n",
    "query = \"\"\"\n",
    "SELECT \n",
    "\tord.ordenid,\n",
    "\tord.total as total_orden,\n",
    "\tdet_ord.total_orden as total_orden_detalle\n",
    "FROM \n",
    "\tpublic.ordenes ord\n",
    "INNER JOIN\n",
    "\t(SELECT ordenid, SUM(cantidad * preciounitario) as total_orden\n",
    "\tFROM public.detalleordenes\n",
    "\tGROUP BY ordenid) det_ord ON ord.ordenid = det_ord.ordenid\n",
    "\"\"\"\n",
    "df = pd.read_sql_query(query, conn)\n",
    "\n",
    "df['diferencia_total'] = (df['total_orden'] - df['total_orden_detalle']).abs()\n",
    "df = df.sort_values(by='diferencia_total', ascending=False)\n",
    "\n",
    "print(df)"
   ]
  },
  {
   "cell_type": "code",
   "execution_count": null,
   "id": "1e2b7299",
   "metadata": {},
   "outputs": [
    {
     "name": "stdout",
     "output_type": "stream",
     "text": [
      "                                ciudad  cant_departamentos\n",
      "0                         Bahía Blanca                  21\n",
      "23               San Miguel de Tucumán                  21\n",
      "20  San Ferando del Valle de Catamarca                  20\n",
      "5                           Corrientes                  20\n",
      "2                   Comodoro Rivadavia                  19\n",
      "16                         Resistencia                  19\n",
      "15                              Rawson                  19\n",
      "26                          Santa Rosa                  19\n",
      "28                             Ushuaia                  19\n",
      "17                        Río Gallegos                  19\n",
      "14                             Posadas                  19\n",
      "4                              Córdoba                  18\n",
      "7                             La Plata                  18\n",
      "6                              Formosa                  18\n",
      "27                 Santiago del Estero                  18\n",
      "25                            Santa Fe                  18\n",
      "21                            San Juan                  18\n",
      "10                             Mendoza                  18\n",
      "8                             La Rioja                  17\n",
      "12                             Neuquén                  17\n",
      "19                               Salta                  17\n",
      "1                            Chilecito                  16\n",
      "18                             Rosario                  16\n",
      "22                            San Luis                  16\n",
      "11                               Merlo                  16\n",
      "13                              Paraná                  16\n",
      "29                              Viedma                  15\n",
      "9                        Mar del Plata                  15\n",
      "24               San Salvador de Jujuy                  14\n",
      "3                         Constitución                  11\n"
     ]
    },
    {
     "name": "stderr",
     "output_type": "stream",
     "text": [
      "C:\\Users\\gabriel.b.alvarez\\AppData\\Local\\Temp\\ipykernel_21048\\1538330939.py:11: UserWarning: pandas only supports SQLAlchemy connectable (engine/connection) or database string URI or sqlite3 DBAPI2 connection. Other DBAPI2 objects are not tested. Please consider using SQLAlchemy.\n",
      "  df = pd.read_sql_query(query, conn)\n"
     ]
    }
   ],
   "source": [
    "# CIUDADES EN MULTIPLES DEPARTAMENTOS Y PROVINCIAS\n",
    "# En el analisis de los datos, se encontró con que varias ciudades se encuentran en simultaneo en distintos\n",
    "# departamentos, lo cual esta mal. Se comprueba demostrando la cantidad de departamentos por ciudad\n",
    "\n",
    "query = \"\"\"\n",
    "select \n",
    "    ciudad, count(distinct departamento) as cant_departamentos\n",
    "from \n",
    "    public.direccionesenvio\n",
    "group by \n",
    "    ciudad\n",
    "\"\"\"\n",
    "df = pd.read_sql_query(query, conn)\n",
    "df = df.sort_values(by='cant_departamentos', ascending=False)\n",
    "\n",
    "print(df)"
   ]
  },
  {
   "cell_type": "code",
   "execution_count": 14,
   "id": "a29347f0",
   "metadata": {},
   "outputs": [],
   "source": [
    "conn.close()"
   ]
  }
 ],
 "metadata": {
  "kernelspec": {
   "display_name": "Python 3",
   "language": "python",
   "name": "python3"
  },
  "language_info": {
   "codemirror_mode": {
    "name": "ipython",
    "version": 3
   },
   "file_extension": ".py",
   "mimetype": "text/x-python",
   "name": "python",
   "nbconvert_exporter": "python",
   "pygments_lexer": "ipython3",
   "version": "3.12.10"
  }
 },
 "nbformat": 4,
 "nbformat_minor": 5
}
