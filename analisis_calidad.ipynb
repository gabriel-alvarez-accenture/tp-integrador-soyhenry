{
 "cells": [
  {
   "cell_type": "code",
   "execution_count": 2,
   "id": "925050d5",
   "metadata": {},
   "outputs": [],
   "source": [
    "import psycopg2\n",
    "import pandas as pd"
   ]
  },
  {
   "cell_type": "code",
   "execution_count": 3,
   "id": "1267b05e",
   "metadata": {},
   "outputs": [
    {
     "name": "stdout",
     "output_type": "stream",
     "text": [
      "Conexión exitosa a la base de datos EcommerceDB\n"
     ]
    }
   ],
   "source": [
    "# Parámetros de conexión\n",
    "host = \"localhost\"\n",
    "port = \"5432\"\n",
    "dbname = \"EcommerceDB\"\n",
    "user = \"postgres\"\n",
    "password = \"postgres123\"\n",
    "\n",
    "# Crear conexión\n",
    "try:\n",
    "    conn = psycopg2.connect(\n",
    "        host=host,\n",
    "        port=port,\n",
    "        dbname=dbname,\n",
    "        user=user,\n",
    "        password=password\n",
    "    )\n",
    "    print(f\"Conexión exitosa a la base de datos {dbname}\")\n",
    "except Exception as e:\n",
    "    print(f\"Error al conectar a la base de datos {dbname}:\", e)\n"
   ]
  },
  {
   "cell_type": "code",
   "execution_count": 4,
   "id": "f35c39c4",
   "metadata": {},
   "outputs": [
    {
     "name": "stdout",
     "output_type": "stream",
     "text": [
      "   productoid  min_diferencia_pct  max_diferencia_pct\n",
      "0           1          -97.114203           42.781222\n",
      "1           2          -98.221527          -37.449312\n",
      "2           3          -85.683514          283.898761\n",
      "3           4          -28.352235         3209.939960\n",
      "4           5          -67.691923         1150.062516\n"
     ]
    },
    {
     "name": "stderr",
     "output_type": "stream",
     "text": [
      "C:\\Users\\gabriel.b.alvarez\\AppData\\Local\\Temp\\ipykernel_9652\\2238761405.py:13: UserWarning: pandas only supports SQLAlchemy connectable (engine/connection) or database string URI or sqlite3 DBAPI2 connection. Other DBAPI2 objects are not tested. Please consider using SQLAlchemy.\n",
      "  df = pd.read_sql_query(query, conn)\n"
     ]
    }
   ],
   "source": [
    "# VARIACION DE PRECIOS PARA PRODUCTOS EN ORDENES\n",
    "\n",
    "query = \"\"\"\n",
    "SELECT \n",
    "    d.productoid,\n",
    "    p.precio AS precio_oficial,\n",
    "    d.preciounitario\n",
    "FROM \n",
    "    public.detalleordenes d\n",
    "JOIN \n",
    "    public.productos p ON d.productoid = p.productoid\n",
    "\"\"\"\n",
    "df = pd.read_sql_query(query, conn)\n",
    "\n",
    "df[\"diferencia_pct\"] = ((df[\"preciounitario\"] - df[\"precio_oficial\"]) / df[\"precio_oficial\"]) * 100\n",
    "\n",
    "resumen = df.groupby(\"productoid\")[\"diferencia_pct\"].agg([\"min\", \"max\"]).reset_index()\n",
    "resumen.rename(columns={\"min\": \"min_diferencia_pct\", \"max\": \"max_diferencia_pct\"}, inplace=True)\n",
    "\n",
    "print(resumen.head())"
   ]
  },
  {
   "cell_type": "code",
   "execution_count": 10,
   "id": "d4f05da6",
   "metadata": {},
   "outputs": [
    {
     "name": "stdout",
     "output_type": "stream",
     "text": [
      "5.4%\n"
     ]
    }
   ],
   "source": [
    "# EMAILS CON FORMATO INVALIDO\n",
    "\n",
    "query_mal_formato = \"\"\" SELECT count(*)\tFROM public.usuarios where email like '% %' \"\"\"\n",
    "query_totalidad = \"\"\" SELECT count(*) FROM public.usuarios \"\"\"\n",
    "\n",
    "cursor = conn.cursor()\n",
    "\n",
    "cursor.execute(query_mal_formato)\n",
    "resultado_mal_formato = cursor.fetchone()[0]\n",
    "cursor.execute(query_totalidad)\n",
    "resultado_totalidad = cursor.fetchone()[0]\n",
    "\n",
    "porc_malos_sobre_total = (resultado_mal_formato/resultado_totalidad)*100\n",
    "\n",
    "print(f'{porc_malos_sobre_total}%')"
   ]
  },
  {
   "cell_type": "code",
   "execution_count": 14,
   "id": "a29347f0",
   "metadata": {},
   "outputs": [],
   "source": [
    "conn.close()"
   ]
  }
 ],
 "metadata": {
  "kernelspec": {
   "display_name": "Python 3",
   "language": "python",
   "name": "python3"
  },
  "language_info": {
   "codemirror_mode": {
    "name": "ipython",
    "version": 3
   },
   "file_extension": ".py",
   "mimetype": "text/x-python",
   "name": "python",
   "nbconvert_exporter": "python",
   "pygments_lexer": "ipython3",
   "version": "3.12.10"
  }
 },
 "nbformat": 4,
 "nbformat_minor": 5
}
